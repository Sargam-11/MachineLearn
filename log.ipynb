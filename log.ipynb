{
 "cells": [
  {
   "cell_type": "code",
   "execution_count": null,
   "id": "54c5e04f-1912-4a55-99b5-4f4ead40a71a",
   "metadata": {},
   "outputs": [],
   "source": [
    "#logisticRegression \n",
    "import numpy as np\n",
    "import pandas as pd\n",
    "import matplotlib.pyplot as plt\n",
    "import seaborn as sns\n",
    "from sklearn.preprocessing import MinMaxScaler,StandardScaler\n",
    "from sklearn.linear_model import LogisticRegression\n",
    "from sklearn.model_selection  import train_test_split\n",
    "from sklearn.metrics import classification_report\n",
    "from sklearn import metrics\n",
    "\n",
    "from sklearn.datasets import *\n",
    "iris = load_iris()\n"
   ]
  },
  {
   "cell_type": "code",
   "execution_count": null,
   "id": "c6502aa6-2c88-4e77-a001-f7a5f04fe44a",
   "metadata": {},
   "outputs": [],
   "source": [
    "irisDf = pd.DataFrame(data = iris.data , columns = iris.feature_names)\n",
    "irisDf['target_names'] = iris.target\n",
    "irisDf['target_names'].replace([0,1,2],iris.target_names,inplace = True)\n",
    "print(irisDf.head(10))\n",
    "x = irisDf.iloc[:,0:4]\n",
    "y = irisDf.target_names"
   ]
  },
  {
   "cell_type": "code",
   "execution_count": null,
   "id": "9da15b3e-886c-4885-94a7-de0ba6cd54dc",
   "metadata": {
    "scrolled": true
   },
   "outputs": [],
   "source": [
    "sc = StandardScaler()\n",
    "x = sc.fit_transform(x)\n",
    "x_train,x_test,y_train,y_test = train_test_split(x,y,test_size = 0.2,random_state = 100)\n",
    "model = LogisticRegression()\n",
    "model.fit(x_train,y_train)\n",
    "y_pred = model.predict(x_test)\n",
    "print(y_pred)\n",
    "((y_pred == y_test).sum() * 100) / len(y_pred)\n",
    "testAccuracy = metrics.accuracy_score(y_test,y_pred)\n",
    "print(testAccuracy)\n",
    "report  = classification_report(y_test,y_pred,output_dict = True, target_names = ['setosa','versicolor','virginica'])\n",
    "print(report)\n",
    "m=metrics.confusion_matrix(y_test,y_pred)\n",
    "print(m)\n",
    "reportDf = pd.DataFrame(report)\n",
    "print(reportDf)"
   ]
  },
  {
   "cell_type": "code",
   "execution_count": null,
   "id": "299b4fee-8741-433d-aa59-bcad87090084",
   "metadata": {},
   "outputs": [],
   "source": [
    "from sklearn.model_selection import StratifiedKFold\n",
    "from sklearn import tree\n",
    "from sklearn.tree import DecisionTreeClassifier"
   ]
  },
  {
   "cell_type": "code",
   "execution_count": null,
   "id": "e0769c1b-28d3-432b-8c0e-f19df03fd2e1",
   "metadata": {},
   "outputs": [],
   "source": [
    "skf = StratifiedKFold(n_splits = 5)\n",
    "sumTestAccuracy = 0\n",
    "for train_index,test_index in skf.split(x,y):\n",
    "    xTrain = x[train_index]\n",
    "    yTrain = y[train_index]\n",
    "    xTest = x[test_index]\n",
    "    yTest = y[test_index]\n",
    "    model.fit(xTrain,yTrain)\n",
    "    yPred =  model.predict(xTest)\n",
    "    test_Accuracy = metrics.accuracy_score(yTest,yPred)\n",
    "    sumTestAccuracy += test_Accuracy\n",
    "print(sumTestAccuracy/5)"
   ]
  },
  {
   "cell_type": "code",
   "execution_count": null,
   "id": "140199bb-a411-4eca-83f7-f60ecbd9cc04",
   "metadata": {},
   "outputs": [],
   "source": [
    "dtree = DecisionTreeClassifier()\n",
    "dtree = dtree.fit(x,y)\n",
    "tree.plot_tree(dtree,feature_names = iris.feature_names)"
   ]
  },
  {
   "cell_type": "code",
   "execution_count": null,
   "id": "4580aacd-0cec-4f61-9020-eb187391996f",
   "metadata": {},
   "outputs": [],
   "source": [
    "# Naive Bayes theorem\n",
    "from sklearn.naive_bayes import GaussianNB\n",
    "model=GaussianNB()\n",
    "model.fit(x,y)\n",
    "print(\"Accuracy is\")\n",
    "model.score(x,y)"
   ]
  },
  {
   "cell_type": "code",
   "execution_count": null,
   "id": "7d871d9c-0044-4485-b4e1-7860dfa8bd07",
   "metadata": {},
   "outputs": [],
   "source": [
    "\n",
    "from sklearn.neighbors import KNeighborsClassifier\n",
    "knc = KNeighborsClassifier()\n",
    "knc.fit(x, y)\n",
    "y_pred = knc.predict(x)\n",
    "cr = classification_report(y, y_pred)\n",
    "print(cr)\n",
    "accuracy_knc = knc.score(x,y)\n",
    "print(\"Accuracy using KNC:\", accuracy_knc)"
   ]
  },
  {
   "cell_type": "code",
   "execution_count": null,
   "id": "ab060720-4090-42c9-9850-a567ad35eb86",
   "metadata": {},
   "outputs": [],
   "source": []
  }
 ],
 "metadata": {
  "kernelspec": {
   "display_name": "Python 3 (ipykernel)",
   "language": "python",
   "name": "python3"
  },
  "language_info": {
   "codemirror_mode": {
    "name": "ipython",
    "version": 3
   },
   "file_extension": ".py",
   "mimetype": "text/x-python",
   "name": "python",
   "nbconvert_exporter": "python",
   "pygments_lexer": "ipython3",
   "version": "3.11.9"
  }
 },
 "nbformat": 4,
 "nbformat_minor": 5
}
