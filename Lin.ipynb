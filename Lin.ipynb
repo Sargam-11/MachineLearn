{
 "cells": [
  {
   "cell_type": "code",
   "execution_count": null,
   "id": "694612e8-6236-415d-93ba-5b8c743ccee4",
   "metadata": {},
   "outputs": [],
   "source": [
    "#linearRegression \n",
    "import numpy as np\n",
    "import pandas as pd\n",
    "import matplotlib.pyplot as plt\n",
    "import seaborn as sns\n",
    "from sklearn.preprocessing import MinMaxScaler,StandardScaler\n",
    "from sklearn.model_selection  import train_test_split\n",
    "from sklearn.linear_model import LinearRegression\n"
   ]
  },
  {
   "cell_type": "code",
   "execution_count": null,
   "id": "d4b85cde-04a5-4b11-94be-016bbeadb82f",
   "metadata": {},
   "outputs": [],
   "source": [
    "df = pd.read_csv(\"Fuel.csv\")\n",
    "df.describe()\n",
    "df = df.iloc[:,[4,5,8,9,10,11,12]]"
   ]
  },
  {
   "cell_type": "code",
   "execution_count": null,
   "id": "a0b99640-feb3-4fc3-b049-66e65b199ed7",
   "metadata": {},
   "outputs": [],
   "source": [
    "zscore = (df - df.mean())/df.std()\n",
    "zscore.head()\n",
    "sc = StandardScaler()\n",
    "XScaled = sc.fit_transform(zscore)\n",
    "XScaled\n",
    "features =  ['ENGINESIZE']\n",
    "X = df[features]\n",
    "Y = df[['CO2EMISSIONS']]\n",
    "X_train, X_test, Y_train, Y_test = train_test_split(XScaled, Y, test_size=0.2, random_state=101)\n",
    "from sklearn.linear_model import LinearRegression\n",
    "LRModel = LinearRegression()\n",
    "LRModel.fit(X_train,Y_train)\n",
    "print(\"Weight/Slope W [W1, W2]:\", LRModel.coef_)\n",
    "print(\"Bias/Intercept B:\", LRModel.intercept_)\n",
    "Y_pred = LRModel.predict(X_test)\n",
    "plt.scatter(Y_test,Y_pred)"
   ]
  },
  {
   "cell_type": "code",
   "execution_count": null,
   "id": "25fb407d-b36c-444d-ba51-37007a575661",
   "metadata": {},
   "outputs": [],
   "source": [
    "from sklearn import metrics\n",
    "print('MAE:', metrics.mean_absolute_error(Y_test, Y_pred))\n",
    "print('MSE:', metrics.mean_squared_error(Y_test, Y_pred))\n",
    "print('RMSE:', np.sqrt(metrics.mean_squared_error(Y_test, Y_pred)))"
   ]
  },
  {
   "cell_type": "code",
   "execution_count": null,
   "id": "ae0ea2b5-96fd-4258-9544-f6121612c0fc",
   "metadata": {},
   "outputs": [],
   "source": []
  }
 ],
 "metadata": {
  "kernelspec": {
   "display_name": "Python 3 (ipykernel)",
   "language": "python",
   "name": "python3"
  },
  "language_info": {
   "codemirror_mode": {
    "name": "ipython",
    "version": 3
   },
   "file_extension": ".py",
   "mimetype": "text/x-python",
   "name": "python",
   "nbconvert_exporter": "python",
   "pygments_lexer": "ipython3",
   "version": "3.11.9"
  }
 },
 "nbformat": 4,
 "nbformat_minor": 5
}
