{
 "cells": [
  {
   "cell_type": "code",
   "execution_count": null,
   "id": "54fcb4dc-8829-43bf-807e-8dea1457915e",
   "metadata": {},
   "outputs": [],
   "source": [
    "import pandas as pd\n",
    "import matplotlib.pyplot as plt\n",
    "from sklearn.model_selection import train_test_split\n",
    "from sklearn.metrics import confusion_matrix,accuracy_score,classification_report\n",
    "import seaborn as sns\n",
    "import scipy.stats as stats\n"
   ]
  },
  {
   "cell_type": "code",
   "execution_count": null,
   "id": "853d3bf4-f67b-4621-9f70-5000b0da9665",
   "metadata": {},
   "outputs": [],
   "source": [
    "from sklearn.datasets import load_breast_cancer\n",
    "cancer=load_breast_cancer()\n",
    "X=cancer.data\n",
    "Y=cancer.target\n",
    "df=pd.DataFrame(cancer.data,columns=cancer.feature_names)\n",
    "df.head(10)"
   ]
  },
  {
   "cell_type": "code",
   "execution_count": null,
   "id": "5319856b-33aa-4e20-aa44-2cc7829d4f72",
   "metadata": {},
   "outputs": [],
   "source": [
    "x_scaled=stats.zscore(X,axis=0)\n",
    "x_scaled\n",
    "x_train,x_test,y_train,y_test=train_test_split(x_scaled,Y,test_size=0.25)\n",
    "print(\"Entries in x_train : \",x_train.shape)\n",
    "print(\"Entries in x_train : \",x_test.shape)\n",
    "\n",
    "from sklearn.neural_network import MLPClassifier\n",
    "mlpc=MLPClassifier(hidden_layer_sizes=(70,60),activation=\"logistic\",solver='sgd',max_iter=1500)\n",
    "clf=mlpc.fit(x_train,y_train)\n",
    "pred=mlpc.predict(x_test)\n",
    "print(pred)\n",
    "cm=confusion_matrix(y_test,pred)\n",
    "print(cm)\n",
    "df2=pd.DataFrame(data=cm,columns=cancer.target_names)\n",
    "print(df2)\n",
    "print('accuracy score : ',round(accuracy_score(y_test,pred),2)*100)"
   ]
  },
  {
   "cell_type": "code",
   "execution_count": null,
   "id": "ebc8c896-937e-4781-a237-8bbc9a134ca8",
   "metadata": {},
   "outputs": [],
   "source": [
    "from sklearn.metrics import r2_score,mean_squared_error\n",
    "import numpy as np\n",
    "print('R2-score of MLPRegressor is ',r2_score(y_test,pred)*100)\n",
    "print('RMSE of MLPRegressor is',np.sqrt(mean_squared_error(y_test,pred)))"
   ]
  },
  {
   "cell_type": "code",
   "execution_count": null,
   "id": "b0f18057-ba83-4082-bc3a-d5f5347a2412",
   "metadata": {},
   "outputs": [],
   "source": []
  }
 ],
 "metadata": {
  "kernelspec": {
   "display_name": "Python 3 (ipykernel)",
   "language": "python",
   "name": "python3"
  },
  "language_info": {
   "codemirror_mode": {
    "name": "ipython",
    "version": 3
   },
   "file_extension": ".py",
   "mimetype": "text/x-python",
   "name": "python",
   "nbconvert_exporter": "python",
   "pygments_lexer": "ipython3",
   "version": "3.11.9"
  }
 },
 "nbformat": 4,
 "nbformat_minor": 5
}
